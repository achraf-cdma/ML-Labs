{
 "cells": [
  {
   "cell_type": "markdown",
   "id": "f7340f8d",
   "metadata": {},
   "source": [
    "# TP 1\n",
    "## Goal : Python Recap\n",
    "### Recap 1 : Variables, Operators, Operations, Functions"
   ]
  },
  {
   "cell_type": "code",
   "execution_count": null,
   "id": "3a44bc94",
   "metadata": {},
   "outputs": [],
   "source": [
    "import sys\n",
    "print('Pyhton version  ')\n",
    "print(sys.version)"
   ]
  },
  {
   "cell_type": "markdown",
   "id": "ab1d5227",
   "metadata": {},
   "source": [
    "## Variables, Operators, Operations"
   ]
  },
  {
   "cell_type": "code",
   "execution_count": null,
   "id": "bec1c8e2",
   "metadata": {},
   "outputs": [],
   "source": [
    "a=10\n",
    "b=7.5"
   ]
  },
  {
   "cell_type": "code",
   "execution_count": null,
   "id": "14004fad",
   "metadata": {},
   "outputs": [],
   "source": [
    "print(\"a=\",a)\n",
    "print(type(a))\n",
    "print(\"b=\",b)\n",
    "print(type(b))"
   ]
  },
  {
   "cell_type": "code",
   "execution_count": null,
   "id": "4e50a7a9",
   "metadata": {},
   "outputs": [],
   "source": [
    "a,b=b,a\n",
    "print(\"a=\",a)\n",
    "print(type(a))\n",
    "print(\"b=\",b)\n",
    "print(type(b))"
   ]
  },
  {
   "cell_type": "code",
   "execution_count": null,
   "id": "c13a70b5",
   "metadata": {},
   "outputs": [],
   "source": [
    "10//7\n"
   ]
  },
  {
   "cell_type": "code",
   "execution_count": null,
   "id": "c132f4ad",
   "metadata": {},
   "outputs": [],
   "source": [
    "10/7"
   ]
  },
  {
   "cell_type": "code",
   "execution_count": null,
   "id": "1ce37cee",
   "metadata": {},
   "outputs": [],
   "source": [
    "import math\n",
    "r=int(input('entrez le rayon'))\n",
    "s=math.pi*r**2\n",
    "print(\"La surface est \",s)"
   ]
  },
  {
   "cell_type": "code",
   "execution_count": null,
   "id": "05102c81",
   "metadata": {},
   "outputs": [],
   "source": [
    "dir(math)\n",
    "dir(math.pi)"
   ]
  },
  {
   "cell_type": "code",
   "execution_count": null,
   "id": "8765e33d",
   "metadata": {},
   "outputs": [],
   "source": [
    "nom=\"FirstName 1\"\n",
    "prenom=\"LastName 1\"\n",
    "print(nom,prenom)"
   ]
  },
  {
   "cell_type": "code",
   "execution_count": null,
   "id": "85aa772e",
   "metadata": {},
   "outputs": [],
   "source": [
    "fullName=nom+\" \"+prenom\n",
    "print(fullName)"
   ]
  },
  {
   "cell_type": "code",
   "execution_count": null,
   "id": "0887fb6c",
   "metadata": {},
   "outputs": [],
   "source": [
    "print('Na' in fullName)"
   ]
  },
  {
   "cell_type": "code",
   "execution_count": null,
   "id": "89766e30",
   "metadata": {},
   "outputs": [],
   "source": [
    "print(len(fullName))"
   ]
  },
  {
   "cell_type": "code",
   "execution_count": null,
   "id": "3486339e",
   "metadata": {},
   "outputs": [],
   "source": [
    "print(fullName[1])\n",
    "print(fullName[1:4])\n",
    "print(fullName[2:])\n",
    "print(fullName[-1])\n",
    "print(fullName[-5])\n"
   ]
  },
  {
   "cell_type": "code",
   "execution_count": null,
   "id": "4bbd9598",
   "metadata": {},
   "outputs": [],
   "source": [
    "info=  ['x','y',1,2,3,4]\n",
    "print(type(info))\n",
    "print(len(info))\n",
    "print('z' in info)"
   ]
  },
  {
   "cell_type": "code",
   "execution_count": null,
   "id": "a5fd2e9c",
   "metadata": {},
   "outputs": [],
   "source": [
    "x=range(10)\n",
    "print(x)\n",
    "print(list(x))"
   ]
  },
  {
   "cell_type": "code",
   "execution_count": null,
   "id": "0847d996",
   "metadata": {},
   "outputs": [],
   "source": [
    "x=range(1,11)\n",
    "print(x)\n",
    "print(list(x))"
   ]
  },
  {
   "cell_type": "code",
   "execution_count": null,
   "id": "5507b1a9",
   "metadata": {},
   "outputs": [],
   "source": [
    "x=range(1,11,2)\n",
    "print(x)\n",
    "print(list(x))"
   ]
  },
  {
   "cell_type": "code",
   "execution_count": null,
   "id": "42c77f8f",
   "metadata": {},
   "outputs": [],
   "source": []
  },
  {
   "cell_type": "code",
   "execution_count": null,
   "id": "6ad67ab3",
   "metadata": {},
   "outputs": [],
   "source": [
    "chaine='Aujourd\\'hui'\n",
    "print(chaine)"
   ]
  },
  {
   "cell_type": "code",
   "execution_count": null,
   "id": "3c34ee52",
   "metadata": {},
   "outputs": [],
   "source": [
    "chaine=\"Aujourd'hui\"\n",
    "print(chaine)"
   ]
  },
  {
   "cell_type": "code",
   "execution_count": null,
   "id": "39283cb5",
   "metadata": {},
   "outputs": [],
   "source": [
    "chaine=\"Aujourd'hui \\nNouveau jour\"\n",
    "print(chaine)"
   ]
  },
  {
   "cell_type": "code",
   "execution_count": null,
   "id": "e0839f59",
   "metadata": {},
   "outputs": [],
   "source": [
    "chaine=\"\"\"Aujourd'hui Nouveau jour\n",
    "Hello\n",
    "Test\n",
    "\\tTTT\n",
    "S\n",
    "\n",
    "\n",
    "\"\"\"\n",
    "print(chaine)"
   ]
  },
  {
   "cell_type": "code",
   "execution_count": null,
   "id": "be32846f",
   "metadata": {},
   "outputs": [],
   "source": [
    "chaine=\"\"\"Aujourd'hui Nouveau jour\n",
    "Hello\n",
    "Test\n",
    "\\tTTT\n",
    "S\n",
    "\n",
    "\n",
    "\"\"\"\n",
    "print(chaine)"
   ]
  },
  {
   "cell_type": "code",
   "execution_count": 1,
   "id": "571e6a41",
   "metadata": {},
   "outputs": [
    {
     "name": "stdout",
     "output_type": "stream",
     "text": [
      "rouge\n"
     ]
    }
   ],
   "source": [
    "dic={'red':'rouge','green':'vert'}\n",
    "print(dic['red'])"
   ]
  },
  {
   "cell_type": "code",
   "execution_count": 2,
   "id": "4a7ae2a5",
   "metadata": {},
   "outputs": [
    {
     "name": "stdout",
     "output_type": "stream",
     "text": [
      "entrer une note15\n",
      "vous avez la moyenne'\n"
     ]
    }
   ],
   "source": [
    "note=float(input('entrer une note'))\n",
    "if note<=10:\n",
    "    print(\"vous n\\'avez pas la moyenne'\")\n",
    "else:\n",
    "    print(\"vous avez la moyenne\")\n",
    "    "
   ]
  },
  {
   "cell_type": "code",
   "execution_count": 3,
   "id": "5a7fc42f",
   "metadata": {},
   "outputs": [
    {
     "name": "stdout",
     "output_type": "stream",
     "text": [
      "entrer une note12\n",
      "vous avez + la moyenne\n"
     ]
    }
   ],
   "source": [
    "note=float(input('entrer une note'))\n",
    "if note==0.0:\n",
    "    print(\"vous n\\'avez pas la moyenne'\")\n",
    "elif 10<note<15 :\n",
    "    print(\"vous avez + la moyenne\")"
   ]
  },
  {
   "cell_type": "code",
   "execution_count": 4,
   "id": "66728a06",
   "metadata": {},
   "outputs": [
    {
     "name": "stdout",
     "output_type": "stream",
     "text": [
      "entrer une note15\n"
     ]
    }
   ],
   "source": [
    "note=float(input('entrer une note'))\n",
    "if note==0.0:\n",
    "    print(\"vous n\\'avez pas la moyenne'\")\n",
    "elif 10<note<15 :\n",
    "    print(\"vous avez + la moyenne\")"
   ]
  },
  {
   "cell_type": "code",
   "execution_count": null,
   "id": "7515745b",
   "metadata": {},
   "outputs": [],
   "source": []
  },
  {
   "cell_type": "code",
   "execution_count": null,
   "id": "0858dcd1",
   "metadata": {},
   "outputs": [],
   "source": []
  },
  {
   "cell_type": "code",
   "execution_count": null,
   "id": "5e490b08",
   "metadata": {},
   "outputs": [],
   "source": []
  },
  {
   "cell_type": "code",
   "execution_count": null,
   "id": "94653166",
   "metadata": {},
   "outputs": [],
   "source": []
  },
  {
   "cell_type": "code",
   "execution_count": null,
   "id": "07cc778d",
   "metadata": {},
   "outputs": [],
   "source": []
  },
  {
   "cell_type": "code",
   "execution_count": null,
   "id": "c15d2862",
   "metadata": {},
   "outputs": [],
   "source": []
  },
  {
   "cell_type": "code",
   "execution_count": null,
   "id": "8496febc",
   "metadata": {},
   "outputs": [],
   "source": []
  },
  {
   "cell_type": "code",
   "execution_count": null,
   "id": "04713958",
   "metadata": {},
   "outputs": [],
   "source": []
  },
  {
   "cell_type": "code",
   "execution_count": null,
   "id": "f18199c4",
   "metadata": {},
   "outputs": [],
   "source": []
  }
 ],
 "metadata": {
  "kernelspec": {
   "display_name": "Python 3 (ipykernel)",
   "language": "python",
   "name": "python3"
  },
  "language_info": {
   "codemirror_mode": {
    "name": "ipython",
    "version": 3
   },
   "file_extension": ".py",
   "mimetype": "text/x-python",
   "name": "python",
   "nbconvert_exporter": "python",
   "pygments_lexer": "ipython3",
   "version": "3.9.13"
  }
 },
 "nbformat": 4,
 "nbformat_minor": 5
}

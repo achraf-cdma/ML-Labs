{
 "cells": [
  {
   "cell_type": "markdown",
   "id": "f7340f8d",
   "metadata": {},
   "source": [
    "# TP 1\n",
    "## Goal : Python Recap\n",
    "### Recap 1 : Variables, Operators, Operations, Functions"
   ]
  },
  {
   "cell_type": "code",
   "execution_count": null,
   "id": "3a44bc94",
   "metadata": {},
   "outputs": [],
   "source": [
    "import sys\n",
    "print('Pyhton version  ')\n",
    "print(sys.version)"
   ]
  },
  {
   "cell_type": "markdown",
   "id": "ab1d5227",
   "metadata": {},
   "source": [
    "## Variables, Operators, Operations"
   ]
  },
  {
   "cell_type": "code",
   "execution_count": null,
   "id": "bec1c8e2",
   "metadata": {},
   "outputs": [],
   "source": [
    "a=10\n",
    "b=7.5"
   ]
  },
  {
   "cell_type": "code",
   "execution_count": null,
   "id": "14004fad",
   "metadata": {},
   "outputs": [],
   "source": [
    "print(\"a=\",a)\n",
    "print(type(a))\n",
    "print(\"b=\",b)\n",
    "print(type(b))"
   ]
  },
  {
   "cell_type": "code",
   "execution_count": null,
   "id": "4e50a7a9",
   "metadata": {},
   "outputs": [],
   "source": [
    "a,b=b,a\n",
    "print(\"a=\",a)\n",
    "print(type(a))\n",
    "print(\"b=\",b)\n",
    "print(type(b))"
   ]
  },
  {
   "cell_type": "code",
   "execution_count": null,
   "id": "c13a70b5",
   "metadata": {},
   "outputs": [],
   "source": [
    "10//7\n"
   ]
  },
  {
   "cell_type": "code",
   "execution_count": null,
   "id": "c132f4ad",
   "metadata": {},
   "outputs": [],
   "source": [
    "10/7"
   ]
  },
  {
   "cell_type": "code",
   "execution_count": null,
   "id": "1ce37cee",
   "metadata": {},
   "outputs": [],
   "source": [
    "import math\n",
    "r=int(input('entrez le rayon'))\n",
    "s=math.pi*r**2\n",
    "print(\"La surface est \",s)"
   ]
  },
  {
   "cell_type": "code",
   "execution_count": null,
   "id": "05102c81",
   "metadata": {},
   "outputs": [],
   "source": [
    "dir(math)\n",
    "dir(math.pi)"
   ]
  },
  {
   "cell_type": "code",
   "execution_count": null,
   "id": "8765e33d",
   "metadata": {},
   "outputs": [],
   "source": [
    "nom=\"FirstName 1\"\n",
    "prenom=\"LastName 1\"\n",
    "print(nom,prenom)"
   ]
  },
  {
   "cell_type": "code",
   "execution_count": null,
   "id": "85aa772e",
   "metadata": {},
   "outputs": [],
   "source": [
    "fullName=nom+\" \"+prenom\n",
    "print(fullName)"
   ]
  },
  {
   "cell_type": "code",
   "execution_count": null,
   "id": "0887fb6c",
   "metadata": {},
   "outputs": [],
   "source": [
    "print('Na' in fullName)"
   ]
  },
  {
   "cell_type": "code",
   "execution_count": null,
   "id": "89766e30",
   "metadata": {},
   "outputs": [],
   "source": [
    "print(len(fullName))"
   ]
  },
  {
   "cell_type": "code",
   "execution_count": null,
   "id": "3486339e",
   "metadata": {},
   "outputs": [],
   "source": [
    "print(fullName[1])\n",
    "print(fullName[1:4])\n",
    "print(fullName[2:])\n",
    "print(fullName[-1])\n",
    "print(fullName[-5])\n"
   ]
  },
  {
   "cell_type": "code",
   "execution_count": null,
   "id": "4bbd9598",
   "metadata": {},
   "outputs": [],
   "source": [
    "info=  ['x','y',1,2,3,4]\n",
    "print(type(info))\n",
    "print(len(info))\n",
    "print('z' in info)"
   ]
  },
  {
   "cell_type": "code",
   "execution_count": null,
   "id": "a5fd2e9c",
   "metadata": {},
   "outputs": [],
   "source": [
    "x=range(10)\n",
    "print(x)\n",
    "print(list(x))"
   ]
  },
  {
   "cell_type": "code",
   "execution_count": null,
   "id": "0847d996",
   "metadata": {},
   "outputs": [],
   "source": [
    "x=range(1,11)\n",
    "print(x)\n",
    "print(list(x))"
   ]
  },
  {
   "cell_type": "code",
   "execution_count": null,
   "id": "5507b1a9",
   "metadata": {},
   "outputs": [],
   "source": [
    "x=range(1,11,2)\n",
    "print(x)\n",
    "print(list(x))"
   ]
  },
  {
   "cell_type": "code",
   "execution_count": null,
   "id": "42c77f8f",
   "metadata": {},
   "outputs": [],
   "source": []
  },
  {
   "cell_type": "code",
   "execution_count": null,
   "id": "6ad67ab3",
   "metadata": {},
   "outputs": [],
   "source": [
    "chaine='Aujourd\\'hui'\n",
    "print(chaine)"
   ]
  },
  {
   "cell_type": "code",
   "execution_count": null,
   "id": "3c34ee52",
   "metadata": {},
   "outputs": [],
   "source": [
    "chaine=\"Aujourd'hui\"\n",
    "print(chaine)"
   ]
  },
  {
   "cell_type": "code",
   "execution_count": null,
   "id": "39283cb5",
   "metadata": {},
   "outputs": [],
   "source": [
    "chaine=\"Aujourd'hui \\nNouveau jour\"\n",
    "print(chaine)"
   ]
  },
  {
   "cell_type": "code",
   "execution_count": null,
   "id": "e0839f59",
   "metadata": {},
   "outputs": [],
   "source": [
    "chaine=\"\"\"Aujourd'hui Nouveau jour\n",
    "Hello\n",
    "Test\n",
    "\\tTTT\n",
    "S\n",
    "\n",
    "\n",
    "\"\"\"\n",
    "print(chaine)"
   ]
  },
  {
   "cell_type": "code",
   "execution_count": null,
   "id": "be32846f",
   "metadata": {},
   "outputs": [],
   "source": [
    "chaine=\"\"\"Aujourd'hui Nouveau jour\n",
    "Hello\n",
    "Test\n",
    "\\tTTT\n",
    "S\n",
    "\n",
    "\n",
    "\"\"\"\n",
    "print(chaine)"
   ]
  },
  {
   "cell_type": "code",
   "execution_count": null,
   "id": "bb3ac925",
   "metadata": {},
   "outputs": [],
   "source": [
    "dic={'red':'rouge','green':'vert'}\n",
    "print(dic['red'])"
   ]
  },
  {
   "cell_type": "code",
   "execution_count": null,
   "id": "444f3cb1",
   "metadata": {},
   "outputs": [],
   "source": [
    "note=float(input('entrer une note'))\n",
    "if note<=10:\n",
    "    print(\"vous n\\'avez pas la moyenne'\")\n",
    "else:\n",
    "    print(\"vous avez la moyenne\")\n",
    "    "
   ]
  },
  {
   "cell_type": "code",
   "execution_count": null,
   "id": "96bfb667",
   "metadata": {},
   "outputs": [],
   "source": [
    "note=float(input('entrer une note'))\n",
    "if note==0.0:\n",
    "    print(\"vous n\\'avez pas la moyenne'\")\n",
    "elif 10<note<15 :\n",
    "    print(\"vous avez + la moyenne\")"
   ]
  },
  {
   "cell_type": "code",
   "execution_count": null,
   "id": "b9fb4973",
   "metadata": {},
   "outputs": [],
   "source": [
    "note=float(input('entrer une note'))\n",
    "if note==0.0:\n",
    "    print(\"vous n\\'avez pas la moyenne'\")\n",
    "elif 10<note<15 :\n",
    "    print(\"vous avez + la moyenne\")"
   ]
  },
  {
   "cell_type": "code",
   "execution_count": null,
   "id": "3c7a005d",
   "metadata": {},
   "outputs": [],
   "source": [
    "counter=1\n",
    "while counter<5:\n",
    "    print(counter,\"x 5 =\",counter*5)\n",
    "    counter+=1"
   ]
  },
  {
   "cell_type": "code",
   "execution_count": 15,
   "id": "e5bcb5b8",
   "metadata": {},
   "outputs": [
    {
     "name": "stdout",
     "output_type": "stream",
     "text": [
      "m\n",
      "e\n",
      "s\n",
      "s\n",
      "a\n",
      "g\n",
      "e\n",
      "done\n"
     ]
    }
   ],
   "source": [
    "message=\"message\"\n",
    "for c in message:\n",
    "    print(c)\n",
    "print('done')"
   ]
  },
  {
   "cell_type": "code",
   "execution_count": 24,
   "id": "473f355e",
   "metadata": {},
   "outputs": [
    {
     "name": "stdout",
     "output_type": "stream",
     "text": [
      "0\n",
      "1\n",
      "2\n",
      "3\n",
      "done\n"
     ]
    }
   ],
   "source": [
    "message=\"message\"\n",
    "for c in range(0,4):\n",
    "    print(c)\n",
    "print('done')"
   ]
  },
  {
   "cell_type": "code",
   "execution_count": 25,
   "id": "a7c73579",
   "metadata": {},
   "outputs": [
    {
     "name": "stdout",
     "output_type": "stream",
     "text": [
      "t\n",
      "60.8\n",
      "15\n",
      "done\n"
     ]
    }
   ],
   "source": [
    "message=['t',60.8,15]\n",
    "for c in message:\n",
    "    print(c)\n",
    "print('done')"
   ]
  },
  {
   "cell_type": "code",
   "execution_count": 27,
   "id": "cbe436f6",
   "metadata": {},
   "outputs": [
    {
     "name": "stdout",
     "output_type": "stream",
     "text": [
      "['t', 60.8, 15]\n",
      "1\n",
      "done\n"
     ]
    }
   ],
   "source": [
    "message=['t',60.8,15],\n",
    "for c in message:\n",
    "    print(c)\n",
    "print('done')"
   ]
  },
  {
   "cell_type": "code",
   "execution_count": 28,
   "id": "dc8976e8",
   "metadata": {},
   "outputs": [
    {
     "name": "stdout",
     "output_type": "stream",
     "text": [
      "['t', 60.8, 15]\n",
      "5\n",
      "done\n"
     ]
    }
   ],
   "source": [
    "message=['t',60.8,15],5\n",
    "for c in message:\n",
    "    print(c)\n",
    "print('done')"
   ]
  },
  {
   "cell_type": "code",
   "execution_count": 32,
   "id": "0a35bf25",
   "metadata": {},
   "outputs": [
    {
     "name": "stdout",
     "output_type": "stream",
     "text": [
      "range(1, 5)\n",
      "[1, 2, 3, 4]\n",
      "1\n",
      "2\n",
      "3\n",
      "4\n",
      "done\n"
     ]
    }
   ],
   "source": [
    "print(range(1,5))\n",
    "print(list(range(1,5)))\n",
    "for i in range(1,5):\n",
    "    print(i)\n",
    "print('done')"
   ]
  },
  {
   "cell_type": "code",
   "execution_count": 34,
   "id": "ae3c8f98",
   "metadata": {},
   "outputs": [],
   "source": [
    "def function_name():\n",
    "    \"\"\"\n",
    "    Something\n",
    "    \n",
    "    \"\"\""
   ]
  },
  {
   "cell_type": "code",
   "execution_count": 39,
   "id": "018e9ba7",
   "metadata": {},
   "outputs": [
    {
     "name": "stdout",
     "output_type": "stream",
     "text": [
      "Help on function function_name in module __main__:\n",
      "\n",
      "function_name()\n",
      "    Something\n",
      "\n"
     ]
    }
   ],
   "source": [
    "help(function_name)\n",
    "    "
   ]
  },
  {
   "cell_type": "code",
   "execution_count": 40,
   "id": "0fbb9f7d",
   "metadata": {},
   "outputs": [
    {
     "name": "stdout",
     "output_type": "stream",
     "text": [
      "None\n"
     ]
    }
   ],
   "source": [
    "print(function_name())"
   ]
  },
  {
   "cell_type": "code",
   "execution_count": 56,
   "id": "f7a89382",
   "metadata": {},
   "outputs": [],
   "source": [
    "\n",
    "def random_number():\n",
    "    import random\n",
    "    n=random.randint(1,6)\n",
    "    ## 6 is included in the range\n",
    "    return n\n",
    "    \"\"\"\n",
    "    Generating random integer\n",
    "    \n",
    "    \"\"\""
   ]
  },
  {
   "cell_type": "code",
   "execution_count": 60,
   "id": "d7329d46",
   "metadata": {},
   "outputs": [
    {
     "name": "stdout",
     "output_type": "stream",
     "text": [
      "5\n"
     ]
    }
   ],
   "source": [
    "print(random_number())"
   ]
  },
  {
   "cell_type": "code",
   "execution_count": 63,
   "id": "a4d07266",
   "metadata": {},
   "outputs": [
    {
     "name": "stdout",
     "output_type": "stream",
     "text": [
      "Tapez q pour quitter\n",
      "Tapez c pour continuer\n",
      "c\n",
      "Next random number : 755\n",
      "c\n",
      "Next random number : 328\n",
      "c\n",
      "Next random number : 951\n",
      "c\n",
      "Next random number : 743\n",
      "c\n",
      "Next random number : 680\n",
      "c\n",
      "Next random number : 490\n",
      "c\n",
      "Next random number : 56\n",
      "c\n",
      "Next random number : 746\n",
      "c\n",
      "Next random number : 948\n",
      "c\n",
      "Next random number : 450\n",
      "q\n",
      "Goodbye!\n"
     ]
    }
   ],
   "source": [
    "def info():\n",
    "    print(\"Tapez q pour quitter\")\n",
    "    print(\"Tapez c pour continuer\")\n",
    "    \n",
    "    \n",
    "def tirage():\n",
    "    import random\n",
    "    return random.randint(1,1000)\n",
    "\n",
    "info()\n",
    "while True:\n",
    "    if input('')==\"q\":\n",
    "        print('Goodbye!')\n",
    "        break\n",
    "    print('Next random number :',tirage())"
   ]
  },
  {
   "cell_type": "code",
   "execution_count": null,
   "id": "6f3039b4",
   "metadata": {},
   "outputs": [],
   "source": []
  },
  {
   "cell_type": "code",
   "execution_count": null,
   "id": "0e93adc0",
   "metadata": {},
   "outputs": [],
   "source": []
  },
  {
   "cell_type": "code",
   "execution_count": null,
   "id": "cb901227",
   "metadata": {},
   "outputs": [],
   "source": []
  },
  {
   "cell_type": "code",
   "execution_count": null,
   "id": "db89553d",
   "metadata": {},
   "outputs": [],
   "source": []
  },
  {
   "cell_type": "code",
   "execution_count": null,
   "id": "1ebc9441",
   "metadata": {},
   "outputs": [],
   "source": []
  },
  {
   "cell_type": "code",
   "execution_count": null,
   "id": "342bb9ec",
   "metadata": {},
   "outputs": [],
   "source": []
  },
  {
   "cell_type": "code",
   "execution_count": null,
   "id": "d8d4e5e3",
   "metadata": {},
   "outputs": [],
   "source": []
  },
  {
   "cell_type": "code",
   "execution_count": null,
   "id": "144d17de",
   "metadata": {},
   "outputs": [],
   "source": []
  },
  {
   "cell_type": "code",
   "execution_count": null,
   "id": "798cd338",
   "metadata": {},
   "outputs": [],
   "source": []
  },
  {
   "cell_type": "code",
   "execution_count": null,
   "id": "a27da74a",
   "metadata": {},
   "outputs": [],
   "source": []
  },
  {
   "cell_type": "code",
   "execution_count": null,
   "id": "060960f0",
   "metadata": {},
   "outputs": [],
   "source": []
  },
  {
   "cell_type": "code",
   "execution_count": null,
   "id": "32917328",
   "metadata": {},
   "outputs": [],
   "source": []
  },
  {
   "cell_type": "code",
   "execution_count": null,
   "id": "5336d167",
   "metadata": {},
   "outputs": [],
   "source": []
  },
  {
   "cell_type": "code",
   "execution_count": null,
   "id": "1fc4353d",
   "metadata": {},
   "outputs": [],
   "source": []
  },
  {
   "cell_type": "code",
   "execution_count": null,
   "id": "44313a6a",
   "metadata": {},
   "outputs": [],
   "source": []
  },
  {
   "cell_type": "code",
   "execution_count": null,
   "id": "bc184848",
   "metadata": {},
   "outputs": [],
   "source": []
  },
  {
   "cell_type": "code",
   "execution_count": null,
   "id": "bdf6c88c",
   "metadata": {},
   "outputs": [],
   "source": []
  },
  {
   "cell_type": "code",
   "execution_count": null,
   "id": "0ca99baf",
   "metadata": {},
   "outputs": [],
   "source": []
  },
  {
   "cell_type": "code",
   "execution_count": null,
   "id": "e01179db",
   "metadata": {},
   "outputs": [],
   "source": []
  },
  {
   "cell_type": "code",
   "execution_count": null,
   "id": "6319879e",
   "metadata": {},
   "outputs": [],
   "source": []
  },
  {
   "cell_type": "code",
   "execution_count": null,
   "id": "be59f363",
   "metadata": {},
   "outputs": [],
   "source": []
  },
  {
   "cell_type": "code",
   "execution_count": null,
   "id": "b531fccb",
   "metadata": {},
   "outputs": [],
   "source": []
  },
  {
   "cell_type": "code",
   "execution_count": null,
   "id": "d00348d3",
   "metadata": {},
   "outputs": [],
   "source": []
  }
 ],
 "metadata": {
  "kernelspec": {
   "display_name": "Python 3 (ipykernel)",
   "language": "python",
   "name": "python3"
  },
  "language_info": {
   "codemirror_mode": {
    "name": "ipython",
    "version": 3
   },
   "file_extension": ".py",
   "mimetype": "text/x-python",
   "name": "python",
   "nbconvert_exporter": "python",
   "pygments_lexer": "ipython3",
   "version": "3.9.13"
  }
 },
 "nbformat": 4,
 "nbformat_minor": 5
}

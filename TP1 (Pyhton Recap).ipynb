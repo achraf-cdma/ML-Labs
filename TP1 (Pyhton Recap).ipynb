{
 "cells": [
  {
   "cell_type": "markdown",
   "id": "54718558",
   "metadata": {},
   "source": [
    "# TP 1\n",
    "## Goal : Python Recap\n",
    "### Recap 1 : Variables, Operators, Operations, Functions"
   ]
  },
  {
   "cell_type": "code",
   "execution_count": 7,
   "id": "accb7281",
   "metadata": {},
   "outputs": [
    {
     "name": "stdout",
     "output_type": "stream",
     "text": [
      "Pyhton version  \n",
      "3.10.6 | packaged by conda-forge | (main, Oct 24 2022, 16:02:16) [MSC v.1916 64 bit (AMD64)]\n"
     ]
    }
   ],
   "source": [
    "import sys\n",
    "print('Pyhton version  ')\n",
    "print(sys.version)"
   ]
  },
  {
   "cell_type": "markdown",
   "id": "9390a536",
   "metadata": {},
   "source": [
    "## Variables, Operators, Operations"
   ]
  },
  {
   "cell_type": "code",
   "execution_count": 8,
   "id": "ff56ed8e",
   "metadata": {},
   "outputs": [],
   "source": [
    "a=10\n",
    "b=7.5"
   ]
  },
  {
   "cell_type": "code",
   "execution_count": 10,
   "id": "e2c8dd68",
   "metadata": {},
   "outputs": [
    {
     "name": "stdout",
     "output_type": "stream",
     "text": [
      "a= 10\n",
      "<class 'int'>\n",
      "b= 7.5\n",
      "<class 'float'>\n"
     ]
    }
   ],
   "source": [
    "print(\"a=\",a)\n",
    "print(type(a))\n",
    "print(\"b=\",b)\n",
    "print(type(b))"
   ]
  },
  {
   "cell_type": "code",
   "execution_count": 14,
   "id": "e9d8ce3c",
   "metadata": {},
   "outputs": [
    {
     "name": "stdout",
     "output_type": "stream",
     "text": [
      "a= 7.5\n",
      "<class 'float'>\n",
      "b= 10\n",
      "<class 'int'>\n"
     ]
    }
   ],
   "source": [
    "a,b=b,a\n",
    "print(\"a=\",a)\n",
    "print(type(a))\n",
    "print(\"b=\",b)\n",
    "print(type(b))"
   ]
  },
  {
   "cell_type": "code",
   "execution_count": 19,
   "id": "2e6f2a1c",
   "metadata": {},
   "outputs": [
    {
     "data": {
      "text/plain": [
       "1"
      ]
     },
     "execution_count": 19,
     "metadata": {},
     "output_type": "execute_result"
    }
   ],
   "source": [
    "10//7\n"
   ]
  },
  {
   "cell_type": "code",
   "execution_count": 20,
   "id": "51c708ca",
   "metadata": {},
   "outputs": [
    {
     "data": {
      "text/plain": [
       "1.4285714285714286"
      ]
     },
     "execution_count": 20,
     "metadata": {},
     "output_type": "execute_result"
    }
   ],
   "source": [
    "10/7"
   ]
  },
  {
   "cell_type": "code",
   "execution_count": 24,
   "id": "670c68d2",
   "metadata": {},
   "outputs": [
    {
     "name": "stdout",
     "output_type": "stream",
     "text": [
      "entrez le rayon2\n",
      "La surface est  12.566370614359172\n"
     ]
    }
   ],
   "source": [
    "import math\n",
    "r=int(input('entrez le rayon'))\n",
    "s=math.pi*r**2\n",
    "print(\"La surface est \",s)"
   ]
  },
  {
   "cell_type": "code",
   "execution_count": 27,
   "id": "a3f00d78",
   "metadata": {},
   "outputs": [
    {
     "data": {
      "text/plain": [
       "['__abs__',\n",
       " '__add__',\n",
       " '__bool__',\n",
       " '__ceil__',\n",
       " '__class__',\n",
       " '__delattr__',\n",
       " '__dir__',\n",
       " '__divmod__',\n",
       " '__doc__',\n",
       " '__eq__',\n",
       " '__float__',\n",
       " '__floor__',\n",
       " '__floordiv__',\n",
       " '__format__',\n",
       " '__ge__',\n",
       " '__getattribute__',\n",
       " '__getformat__',\n",
       " '__getnewargs__',\n",
       " '__gt__',\n",
       " '__hash__',\n",
       " '__init__',\n",
       " '__init_subclass__',\n",
       " '__int__',\n",
       " '__le__',\n",
       " '__lt__',\n",
       " '__mod__',\n",
       " '__mul__',\n",
       " '__ne__',\n",
       " '__neg__',\n",
       " '__new__',\n",
       " '__pos__',\n",
       " '__pow__',\n",
       " '__radd__',\n",
       " '__rdivmod__',\n",
       " '__reduce__',\n",
       " '__reduce_ex__',\n",
       " '__repr__',\n",
       " '__rfloordiv__',\n",
       " '__rmod__',\n",
       " '__rmul__',\n",
       " '__round__',\n",
       " '__rpow__',\n",
       " '__rsub__',\n",
       " '__rtruediv__',\n",
       " '__setattr__',\n",
       " '__setformat__',\n",
       " '__sizeof__',\n",
       " '__str__',\n",
       " '__sub__',\n",
       " '__subclasshook__',\n",
       " '__truediv__',\n",
       " '__trunc__',\n",
       " 'as_integer_ratio',\n",
       " 'conjugate',\n",
       " 'fromhex',\n",
       " 'hex',\n",
       " 'imag',\n",
       " 'is_integer',\n",
       " 'real']"
      ]
     },
     "execution_count": 27,
     "metadata": {},
     "output_type": "execute_result"
    }
   ],
   "source": [
    "dir(math)\n",
    "dir(math.pi)"
   ]
  },
  {
   "cell_type": "code",
   "execution_count": 28,
   "id": "d080bb5e",
   "metadata": {},
   "outputs": [
    {
     "name": "stdout",
     "output_type": "stream",
     "text": [
      "FirstName 1 LastName 1\n"
     ]
    }
   ],
   "source": [
    "nom=\"FirstName 1\"\n",
    "prenom=\"LastName 1\"\n",
    "print(nom,prenom)"
   ]
  },
  {
   "cell_type": "code",
   "execution_count": 30,
   "id": "e4c2b1c7",
   "metadata": {},
   "outputs": [
    {
     "name": "stdout",
     "output_type": "stream",
     "text": [
      "FirstName 1 LastName 1\n"
     ]
    }
   ],
   "source": [
    "fullName=nom+\" \"+prenom\n",
    "print(fullName)"
   ]
  },
  {
   "cell_type": "code",
   "execution_count": 32,
   "id": "6bdb9655",
   "metadata": {},
   "outputs": [
    {
     "name": "stdout",
     "output_type": "stream",
     "text": [
      "True\n"
     ]
    }
   ],
   "source": [
    "print('Na' in fullName)"
   ]
  },
  {
   "cell_type": "code",
   "execution_count": 33,
   "id": "d6fb2332",
   "metadata": {},
   "outputs": [
    {
     "name": "stdout",
     "output_type": "stream",
     "text": [
      "22\n"
     ]
    }
   ],
   "source": [
    "print(len(fullName))"
   ]
  },
  {
   "cell_type": "code",
   "execution_count": 36,
   "id": "d9bb7316",
   "metadata": {},
   "outputs": [
    {
     "name": "stdout",
     "output_type": "stream",
     "text": [
      "i\n",
      "irs\n",
      "rstName 1 LastName 1\n"
     ]
    }
   ],
   "source": [
    "print(fullName[1])\n",
    "print(fullName[1:4])\n",
    "print(fullName[2:])\n"
   ]
  },
  {
   "cell_type": "code",
   "execution_count": null,
   "id": "a965ec07",
   "metadata": {},
   "outputs": [],
   "source": []
  },
  {
   "cell_type": "code",
   "execution_count": null,
   "id": "419f1273",
   "metadata": {},
   "outputs": [],
   "source": []
  }
 ],
 "metadata": {
  "kernelspec": {
   "display_name": "Python 3 (ipykernel)",
   "language": "python",
   "name": "python3"
  },
  "language_info": {
   "codemirror_mode": {
    "name": "ipython",
    "version": 3
   },
   "file_extension": ".py",
   "mimetype": "text/x-python",
   "name": "python",
   "nbconvert_exporter": "python",
   "pygments_lexer": "ipython3",
   "version": "3.10.6"
  }
 },
 "nbformat": 4,
 "nbformat_minor": 5
}
